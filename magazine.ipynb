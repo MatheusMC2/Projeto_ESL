{
 "cells": [
  {
   "cell_type": "code",
   "execution_count": 1,
   "metadata": {},
   "outputs": [],
   "source": [
    "import io\n",
    "import ftplib\n",
    "import pandas as pd\n",
    "import config\n",
    "import json\n",
    "from datetime import date, timedelta\n",
    "from selenium import webdriver\n",
    "from selenium.webdriver.common.by import By\n",
    "from selenium.webdriver.chrome.service import Service\n",
    "from selenium.webdriver.support.ui import WebDriverWait\n",
    "from webdriver_manager.chrome import ChromeDriverManager\n",
    "from selenium.common.exceptions import WebDriverException\n",
    "from selenium.webdriver.support import expected_conditions as EC"
   ]
  },
  {
   "cell_type": "code",
   "execution_count": 2,
   "metadata": {},
   "outputs": [],
   "source": [
    "def get_chave_notas():\n",
    "    today = date.today().strftime('%d-%m-%Y')\n",
    "    yesterday = (date.today() - timedelta(1)).strftime('%Y-%m-%d')\n",
    "    file_bytes = io.BytesIO()\n",
    "    ocorrencias = ['114', '113']\n",
    "\n",
    "    conecta_ftp = ftplib.FTP(config.HOSTNAME_CONECTA, config.USERNAME_CONECTA, config.PASSWORD_CONECTA)\n",
    "    conecta_ftp.cwd(config.PATH_TRIMESTRAL)\n",
    "    list_files = conecta_ftp.nlst()\n",
    "\n",
    "    for file in list_files:\n",
    "        if not today in file: continue\n",
    "        conecta_ftp.retrbinary('RETR ' + file, file_bytes.write)\n",
    "        df = pd.read_excel(file_bytes)\n",
    "    conecta_ftp.close()\n",
    "\n",
    "    df.loc[:,\"Pagador do frete/Nome Fantasia\"] = df[\"Pagador do frete/Nome Fantasia\"].str.contains(\"MAGAZINE\")\n",
    "    df = df.drop_duplicates(subset=[\"Nota Fiscal\"])\n",
    "    df = df[df[\"Código Ocorrência\"].astype(str).isin(ocorrencias)]\n",
    "    df.loc[:,\"Data da ocorrência\"] = df[\"Data da ocorrência\"].astype(str).str.split().str[0]\n",
    "    df = df[df[\"Data da ocorrência\"] == yesterday]\n",
    "    chave_nota = df[\"Chave NF-e\"].to_list()\n",
    "    return chave_nota"
   ]
  },
  {
   "cell_type": "code",
   "execution_count": 3,
   "metadata": {},
   "outputs": [],
   "source": [
    "service = Service(ChromeDriverManager().install())\n",
    "driver = webdriver.Chrome(service=service)\n",
    "\n",
    "driver.maximize_window()\n",
    "driver.get('https://lite.arquivei.com.br/batch')\n",
    "\n",
    "login = driver.find_element(By.XPATH, '//*[@id=\"email\"]')\n",
    "login.send_keys('daniel@conectacargo.com.br')\n",
    "\n",
    "password = driver.find_element(By.XPATH, '//*[@id=\"password\"]')\n",
    "password.send_keys('conecta123')\n",
    "\n",
    "iframe = driver.find_element(By.XPATH, '//*[@id=\"google-recaptcha\"]/div/div/iframe')\n",
    "driver.switch_to.frame(iframe)\n",
    "\n",
    "recaptcha = driver.find_element(By.XPATH, '//*[@id=\"recaptcha-anchor\"]/div[1]')\n",
    "recaptcha.click()\n"
   ]
  }
 ],
 "metadata": {
  "kernelspec": {
   "display_name": "Python 3",
   "language": "python",
   "name": "python3"
  },
  "language_info": {
   "codemirror_mode": {
    "name": "ipython",
    "version": 3
   },
   "file_extension": ".py",
   "mimetype": "text/x-python",
   "name": "python",
   "nbconvert_exporter": "python",
   "pygments_lexer": "ipython3",
   "version": "3.11.4"
  }
 },
 "nbformat": 4,
 "nbformat_minor": 2
}
