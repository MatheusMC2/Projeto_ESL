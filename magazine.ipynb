{
 "cells": [
  {
   "cell_type": "code",
   "execution_count": 1,
   "metadata": {},
   "outputs": [],
   "source": [
    "import io\n",
    "import ftplib\n",
    "import pandas as pd\n",
    "import config\n",
    "import mysql.connector\n",
    "from datetime import date, datetime, timedelta\n",
    "from selenium import webdriver\n",
    "from selenium.webdriver.common.by import By\n",
    "from selenium.webdriver.chrome.service import Service\n",
    "from selenium.webdriver.support.ui import WebDriverWait\n",
    "from webdriver_manager.chrome import ChromeDriverManager\n",
    "from selenium.common.exceptions import WebDriverException\n",
    "from selenium.webdriver.support import expected_conditions as EC"
   ]
  },
  {
   "cell_type": "code",
   "execution_count": 2,
   "metadata": {},
   "outputs": [],
   "source": [
    "def get_chave_notas():\n",
    "    today = date.today().strftime('%d-%m-%Y')\n",
    "    yesterday = (date.today() - timedelta(1)).strftime('%Y-%m-%d')\n",
    "    file_bytes = io.BytesIO()\n",
    "    ocorrencias = ['/1/','/112/','/114/','/113/','/308/']\n",
    "\n",
    "    inectar_ftp = ftplib.FTP(config.HOSTNAME_INECTAR, config.USERNAME_INECTAR, config.PASSWORD_INECTAR)\n",
    "    inectar_ftp.cwd(config.PATH_TRIMESTRAL)\n",
    "    list_files = inectar_ftp.nlst()\n",
    "\n",
    "    for file in list_files:\n",
    "        if not today in file: continue\n",
    "        inectar_ftp.retrbinary('RETR ' + file, file_bytes.write)\n",
    "        df = pd.read_excel(file_bytes)\n",
    "    inectar_ftp.close()\n",
    "\n",
    "    df['Pagador do frete/Nome Fantasia'].fillna('', inplace=True)\n",
    "    df= df[df[\"Pagador do frete/Nome Fantasia\"].str.contains('MAGAZINE')]\n",
    "    df.loc[:,'Nota Fiscal'] = df['Nota Fiscal'].astype(str).str.replace('.0', '')\n",
    "    df = df.drop_duplicates(subset=['Nota Fiscal'])\n",
    "    df.loc[:,\"Código Ocorrência\"] = '/'+df['Código Ocorrência'].astype(str)+'/'\n",
    "    df = df[df[\"Código Ocorrência\"].astype(str).isin(ocorrencias)]\n",
    "    df_aux = df[df['Código Ocorrência'].astype(str).str.contains('/1/')]\n",
    "    notas_list = df_aux['Nota Fiscal'].to_list()\n",
    "    df = df[~df['Nota Fiscal'].isin(notas_list)]\n",
    "    df.loc[:,\"Data da ocorrência\"] = df[\"Data da ocorrência\"].astype(str).str.split().str[0]\n",
    "    df = df[df[\"Data da ocorrência\"] >= yesterday]\n",
    "    chave_nota = df[\"Chave NF-e\"].to_list()\n",
    "    return chave_nota"
   ]
  },
  {
   "cell_type": "code",
   "execution_count": 3,
   "metadata": {},
   "outputs": [
    {
     "ename": "NoSuchElementException",
     "evalue": "Message: no such element: Unable to locate element: {\"method\":\"xpath\",\"selector\":\"//*[@id=\"batch-table\"]/table/tbody/tr[1]/td[4]/button\"}\n  (Session info: chrome=119.0.6045.105); For documentation on this error, please visit: https://www.selenium.dev/documentation/webdriver/troubleshooting/errors#no-such-element-exception\nStacktrace:\n\tGetHandleVerifier [0x007B72A3+45731]\n\t(No symbol) [0x00742D51]\n\t(No symbol) [0x0063880D]\n\t(No symbol) [0x0066B940]\n\t(No symbol) [0x0066BE0B]\n\t(No symbol) [0x0069D1F2]\n\t(No symbol) [0x00688024]\n\t(No symbol) [0x0069B7A2]\n\t(No symbol) [0x00687DD6]\n\t(No symbol) [0x006631F6]\n\t(No symbol) [0x0066439D]\n\tGetHandleVerifier [0x00AC0716+3229462]\n\tGetHandleVerifier [0x00B084C8+3523784]\n\tGetHandleVerifier [0x00B0214C+3498316]\n\tGetHandleVerifier [0x00841680+611968]\n\t(No symbol) [0x0074CCCC]\n\t(No symbol) [0x00748DF8]\n\t(No symbol) [0x00748F1D]\n\t(No symbol) [0x0073B2C7]\n\tBaseThreadInitThunk [0x76677BA9+25]\n\tRtlInitializeExceptionChain [0x7770BD3B+107]\n\tRtlClearBits [0x7770BCBF+191]\n",
     "output_type": "error",
     "traceback": [
      "\u001b[1;31m---------------------------------------------------------------------------\u001b[0m",
      "\u001b[1;31mNoSuchElementException\u001b[0m                    Traceback (most recent call last)",
      "\u001b[1;32mc:\\Users\\Matheus Monte\\Documents\\Projetos 2.0\\Projeto_ESL\\magazine.ipynb Cell 3\u001b[0m line \u001b[0;36m8\n\u001b[0;32m     <a href='vscode-notebook-cell:/c%3A/Users/Matheus%20Monte/Documents/Projetos%202.0/Projeto_ESL/magazine.ipynb#W3sZmlsZQ%3D%3D?line=78'>79</a>\u001b[0m lote_botton \u001b[39m=\u001b[39m wait\u001b[39m.\u001b[39muntil(EC\u001b[39m.\u001b[39melement_to_be_clickable((By\u001b[39m.\u001b[39mXPATH, \u001b[39m'\u001b[39m\u001b[39m//*[@id=\u001b[39m\u001b[39m\"\u001b[39m\u001b[39marquivei-hidden\u001b[39m\u001b[39m\"\u001b[39m\u001b[39m]/div[2]/div/button[2]\u001b[39m\u001b[39m'\u001b[39m)))\n\u001b[0;32m     <a href='vscode-notebook-cell:/c%3A/Users/Matheus%20Monte/Documents/Projetos%202.0/Projeto_ESL/magazine.ipynb#W3sZmlsZQ%3D%3D?line=79'>80</a>\u001b[0m lote_botton\u001b[39m.\u001b[39mclick()\n\u001b[1;32m---> <a href='vscode-notebook-cell:/c%3A/Users/Matheus%20Monte/Documents/Projetos%202.0/Projeto_ESL/magazine.ipynb#W3sZmlsZQ%3D%3D?line=81'>82</a>\u001b[0m download_botton \u001b[39m=\u001b[39m driver\u001b[39m.\u001b[39;49mfind_element(By\u001b[39m.\u001b[39;49mXPATH, \u001b[39m'\u001b[39;49m\u001b[39m//*[@id=\u001b[39;49m\u001b[39m\"\u001b[39;49m\u001b[39mbatch-table\u001b[39;49m\u001b[39m\"\u001b[39;49m\u001b[39m]/table/tbody/tr[1]/td[4]/button\u001b[39;49m\u001b[39m'\u001b[39;49m)\n\u001b[0;32m     <a href='vscode-notebook-cell:/c%3A/Users/Matheus%20Monte/Documents/Projetos%202.0/Projeto_ESL/magazine.ipynb#W3sZmlsZQ%3D%3D?line=82'>83</a>\u001b[0m download_botton\u001b[39m.\u001b[39mclick()\n\u001b[0;32m     <a href='vscode-notebook-cell:/c%3A/Users/Matheus%20Monte/Documents/Projetos%202.0/Projeto_ESL/magazine.ipynb#W3sZmlsZQ%3D%3D?line=84'>85</a>\u001b[0m pesquisa_botton \u001b[39m=\u001b[39m driver\u001b[39m.\u001b[39mfind_element(By\u001b[39m.\u001b[39mXPATH, \u001b[39m'\u001b[39m\u001b[39m//*[@id=\u001b[39m\u001b[39m\"\u001b[39m\u001b[39mtab-batch-generator\u001b[39m\u001b[39m\"\u001b[39m\u001b[39m]\u001b[39m\u001b[39m'\u001b[39m)\n",
      "File \u001b[1;32mc:\\Users\\Matheus Monte\\AppData\\Local\\Programs\\Python\\Python311\\Lib\\site-packages\\selenium\\webdriver\\remote\\webdriver.py:739\u001b[0m, in \u001b[0;36mWebDriver.find_element\u001b[1;34m(self, by, value)\u001b[0m\n\u001b[0;32m    736\u001b[0m     by \u001b[39m=\u001b[39m By\u001b[39m.\u001b[39mCSS_SELECTOR\n\u001b[0;32m    737\u001b[0m     value \u001b[39m=\u001b[39m \u001b[39mf\u001b[39m\u001b[39m'\u001b[39m\u001b[39m[name=\u001b[39m\u001b[39m\"\u001b[39m\u001b[39m{\u001b[39;00mvalue\u001b[39m}\u001b[39;00m\u001b[39m\"\u001b[39m\u001b[39m]\u001b[39m\u001b[39m'\u001b[39m\n\u001b[1;32m--> 739\u001b[0m \u001b[39mreturn\u001b[39;00m \u001b[39mself\u001b[39;49m\u001b[39m.\u001b[39;49mexecute(Command\u001b[39m.\u001b[39;49mFIND_ELEMENT, {\u001b[39m\"\u001b[39;49m\u001b[39musing\u001b[39;49m\u001b[39m\"\u001b[39;49m: by, \u001b[39m\"\u001b[39;49m\u001b[39mvalue\u001b[39;49m\u001b[39m\"\u001b[39;49m: value})[\u001b[39m\"\u001b[39m\u001b[39mvalue\u001b[39m\u001b[39m\"\u001b[39m]\n",
      "File \u001b[1;32mc:\\Users\\Matheus Monte\\AppData\\Local\\Programs\\Python\\Python311\\Lib\\site-packages\\selenium\\webdriver\\remote\\webdriver.py:345\u001b[0m, in \u001b[0;36mWebDriver.execute\u001b[1;34m(self, driver_command, params)\u001b[0m\n\u001b[0;32m    343\u001b[0m response \u001b[39m=\u001b[39m \u001b[39mself\u001b[39m\u001b[39m.\u001b[39mcommand_executor\u001b[39m.\u001b[39mexecute(driver_command, params)\n\u001b[0;32m    344\u001b[0m \u001b[39mif\u001b[39;00m response:\n\u001b[1;32m--> 345\u001b[0m     \u001b[39mself\u001b[39;49m\u001b[39m.\u001b[39;49merror_handler\u001b[39m.\u001b[39;49mcheck_response(response)\n\u001b[0;32m    346\u001b[0m     response[\u001b[39m\"\u001b[39m\u001b[39mvalue\u001b[39m\u001b[39m\"\u001b[39m] \u001b[39m=\u001b[39m \u001b[39mself\u001b[39m\u001b[39m.\u001b[39m_unwrap_value(response\u001b[39m.\u001b[39mget(\u001b[39m\"\u001b[39m\u001b[39mvalue\u001b[39m\u001b[39m\"\u001b[39m, \u001b[39mNone\u001b[39;00m))\n\u001b[0;32m    347\u001b[0m     \u001b[39mreturn\u001b[39;00m response\n",
      "File \u001b[1;32mc:\\Users\\Matheus Monte\\AppData\\Local\\Programs\\Python\\Python311\\Lib\\site-packages\\selenium\\webdriver\\remote\\errorhandler.py:229\u001b[0m, in \u001b[0;36mErrorHandler.check_response\u001b[1;34m(self, response)\u001b[0m\n\u001b[0;32m    227\u001b[0m         alert_text \u001b[39m=\u001b[39m value[\u001b[39m\"\u001b[39m\u001b[39malert\u001b[39m\u001b[39m\"\u001b[39m]\u001b[39m.\u001b[39mget(\u001b[39m\"\u001b[39m\u001b[39mtext\u001b[39m\u001b[39m\"\u001b[39m)\n\u001b[0;32m    228\u001b[0m     \u001b[39mraise\u001b[39;00m exception_class(message, screen, stacktrace, alert_text)  \u001b[39m# type: ignore[call-arg]  # mypy is not smart enough here\u001b[39;00m\n\u001b[1;32m--> 229\u001b[0m \u001b[39mraise\u001b[39;00m exception_class(message, screen, stacktrace)\n",
      "\u001b[1;31mNoSuchElementException\u001b[0m: Message: no such element: Unable to locate element: {\"method\":\"xpath\",\"selector\":\"//*[@id=\"batch-table\"]/table/tbody/tr[1]/td[4]/button\"}\n  (Session info: chrome=119.0.6045.105); For documentation on this error, please visit: https://www.selenium.dev/documentation/webdriver/troubleshooting/errors#no-such-element-exception\nStacktrace:\n\tGetHandleVerifier [0x007B72A3+45731]\n\t(No symbol) [0x00742D51]\n\t(No symbol) [0x0063880D]\n\t(No symbol) [0x0066B940]\n\t(No symbol) [0x0066BE0B]\n\t(No symbol) [0x0069D1F2]\n\t(No symbol) [0x00688024]\n\t(No symbol) [0x0069B7A2]\n\t(No symbol) [0x00687DD6]\n\t(No symbol) [0x006631F6]\n\t(No symbol) [0x0066439D]\n\tGetHandleVerifier [0x00AC0716+3229462]\n\tGetHandleVerifier [0x00B084C8+3523784]\n\tGetHandleVerifier [0x00B0214C+3498316]\n\tGetHandleVerifier [0x00841680+611968]\n\t(No symbol) [0x0074CCCC]\n\t(No symbol) [0x00748DF8]\n\t(No symbol) [0x00748F1D]\n\t(No symbol) [0x0073B2C7]\n\tBaseThreadInitThunk [0x76677BA9+25]\n\tRtlInitializeExceptionChain [0x7770BD3B+107]\n\tRtlClearBits [0x7770BCBF+191]\n"
     ]
    }
   ],
   "source": [
    "#conexão com o banco de dados\n",
    "mydb = mysql.connector.connect(\n",
    "    host = config.DATABASE_HOST,\n",
    "    user = config.DATABASE_USERNAME,\n",
    "    password = config.DATABASE_PASSWORD,\n",
    "    database = config.DATABASE_DATABASE\n",
    ")\n",
    "\n",
    "list_db = []\n",
    "cursor = mydb.cursor()\n",
    "query = 'SELECT file_name FROM python_notas_magazine'\n",
    "cursor.execute(query)\n",
    "result = cursor.fetchall()\n",
    "\n",
    "for name in result:\n",
    "    list_db.append(name[0])\n",
    "\n",
    "count = 0\n",
    "\n",
    "service = Service(ChromeDriverManager().install())\n",
    "driver = webdriver.Chrome(service=service)\n",
    "wait = WebDriverWait(driver, 30)\n",
    "\n",
    "driver.maximize_window()\n",
    "driver.get('https://lite.arquivei.com.br/batch')\n",
    "\n",
    "login = driver.find_element(By.XPATH, '//*[@id=\"email\"]')\n",
    "login.send_keys('daniel@conectacargo.com.br')\n",
    "\n",
    "password = driver.find_element(By.XPATH, '//*[@id=\"password\"]')\n",
    "password.send_keys('conecta123')\n",
    "\n",
    "iframe = driver.find_element(By.XPATH, '//*[@id=\"google-recaptcha\"]/div/div/iframe')\n",
    "driver.switch_to.frame(iframe)\n",
    "\n",
    "recaptcha = driver.find_element(By.XPATH, '//*[@id=\"recaptcha-anchor\"]/div[1]')\n",
    "recaptcha.click()\n",
    "\n",
    "driver.switch_to.default_content()\n",
    "\n",
    "login_botton = wait.until(EC.element_to_be_clickable((By.XPATH, '//*[@id=\"arquivei-sign-in\"]/div[2]/form/div[4]/button[2]')))\n",
    "login_botton.click()\n",
    "\n",
    "list_notas = get_chave_notas()\n",
    "\n",
    "for nota in list_notas:\n",
    "    if nota in list_db: continue\n",
    "    search_nota = driver.find_element(By.XPATH, '//*[@id=\"batch-access-key-input\"]/textarea')\n",
    "    search_nota.send_keys(nota)\n",
    "    search_nota.send_keys('\\n')\n",
    "    query2 = \"INSERT INTO python_notas_magazine (file_name, upload_date) VALUES ('\" + nota + \"', '\" + datetime.now().strftime(\"%Y-%m-%d %H:%M:%S\") + \"')\"\n",
    "    cursor.execute(query2)\n",
    "    mydb.commit()\n",
    "    count += 1\n",
    "\n",
    "    if count == 300:\n",
    "        download_button = driver.find_element(By.XPATH, '//*[@id=\"batch-send\"]/button')\n",
    "        download_button.click()\n",
    "\n",
    "        consulta_botton = driver.find_element(By.XPATH, '//*[@id=\"arquivei-hidden\"]/div[2]/div/button[2]')\n",
    "        consulta_botton.click()\n",
    "\n",
    "        lote_botton = wait.until(EC.element_to_be_clickable((By.XPATH, '//*[@id=\"arquivei-hidden\"]/div[2]/div/button[2]')))\n",
    "        lote_botton.click()\n",
    "\n",
    "        download_botton = driver.find_element(By.XPATH, '//*[@id=\"batch-table\"]/table/tbody/tr[1]/td[4]/button')\n",
    "        download_botton.click()\n",
    "\n",
    "        pesquisa_botton = driver.find_element(By.XPATH, '//*[@id=\"tab-batch-generator\"]')\n",
    "        pesquisa_botton.click()\n",
    "        count = 0\n",
    "    elif count == len(list_notas):\n",
    "        download_button = driver.find_element(By.XPATH, '//*[@id=\"batch-send\"]/button')\n",
    "        download_button.click()\n",
    "\n",
    "        consulta_botton = wait.until(EC.element_to_be_clickable((By.XPATH, '//*[@id=\"arquivei-hidden\"]/div[2]/div/button[2]')))\n",
    "        consulta_botton.click()\n",
    "\n",
    "        lote_botton = wait.until(EC.element_to_be_clickable((By.XPATH, '//*[@id=\"arquivei-hidden\"]/div[2]/div/button[2]')))\n",
    "        lote_botton.click()\n",
    "\n",
    "        download_botton = wait.until(EC.element_to_be_clickable((By.XPATH, '//*[@id=\"batch-table\"]/table/tbody/tr[1]/td[4]/button')))\n",
    "        download_botton.click()\n",
    "\n",
    "        pesquisa_botton = driver.find_element(By.XPATH, '//*[@id=\"tab-batch-generator\"]')\n",
    "        pesquisa_botton.click()\n",
    "\n",
    "\n"
   ]
  },
  {
   "cell_type": "code",
   "execution_count": null,
   "metadata": {},
   "outputs": [
    {
     "data": {
      "text/plain": [
       "112"
      ]
     },
     "execution_count": 4,
     "metadata": {},
     "output_type": "execute_result"
    }
   ],
   "source": [
    "len(list_notas)"
   ]
  }
 ],
 "metadata": {
  "kernelspec": {
   "display_name": "Python 3",
   "language": "python",
   "name": "python3"
  },
  "language_info": {
   "codemirror_mode": {
    "name": "ipython",
    "version": 3
   },
   "file_extension": ".py",
   "mimetype": "text/x-python",
   "name": "python",
   "nbconvert_exporter": "python",
   "pygments_lexer": "ipython3",
   "version": "3.11.4"
  }
 },
 "nbformat": 4,
 "nbformat_minor": 2
}
