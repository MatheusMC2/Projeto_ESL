{
 "cells": [
  {
   "cell_type": "code",
   "execution_count": 1,
   "metadata": {},
   "outputs": [],
   "source": [
    "import io\n",
    "import ftplib\n",
    "import pandas as pd\n",
    "import config\n",
    "import json\n",
    "from datetime import date, timedelta\n",
    "from selenium import webdriver\n",
    "from selenium.webdriver.common.by import By\n",
    "from selenium.webdriver.chrome.service import Service\n",
    "from selenium.webdriver.support.ui import WebDriverWait\n",
    "from webdriver_manager.chrome import ChromeDriverManager\n",
    "from selenium.common.exceptions import WebDriverException\n",
    "from selenium.webdriver.support import expected_conditions as EC"
   ]
  },
  {
   "cell_type": "code",
   "execution_count": 2,
   "metadata": {},
   "outputs": [],
   "source": [
    "def get_chave_notas():\n",
    "    today = date.today().strftime('%d-%m-%Y')\n",
    "    yesterday = (date.today() - timedelta(1)).strftime('%Y-%m-%d')\n",
    "    file_bytes = io.BytesIO()\n",
    "    ocorrencias = ['114', '113']\n",
    "\n",
    "    inectar_ftp = ftplib.FTP(config.HOSTNAME_INECTAR, config.USERNAME_INECTAR, config.PASSWORD_INECTAR)\n",
    "    inectar_ftp.cwd(config.PATH_TRIMESTRAL)\n",
    "    list_files = inectar_ftp.nlst()\n",
    "\n",
    "    for file in list_files:\n",
    "        if not today in file: continue\n",
    "        inectar_ftp.retrbinary('RETR ' + file, file_bytes.write)\n",
    "        df = pd.read_excel(file_bytes)\n",
    "    inectar_ftp.close()\n",
    "\n",
    "    df.loc[:,\"Pagador do frete/Nome Fantasia\"] = df[\"Pagador do frete/Nome Fantasia\"].str.contains(\"MAGAZINE\")\n",
    "    df = df.drop_duplicates(subset=[\"Nota Fiscal\"])\n",
    "    df = df[df[\"Código Ocorrência\"].astype(str).isin(ocorrencias)]\n",
    "    df.loc[:,\"Data da ocorrência\"] = df[\"Data da ocorrência\"].astype(str).str.split().str[0]\n",
    "    df = df[df[\"Data da ocorrência\"] == yesterday]\n",
    "    chave_nota = df[\"Chave NF-e\"].to_list()\n",
    "    return chave_nota"
   ]
  },
  {
   "cell_type": "code",
   "execution_count": 3,
   "metadata": {},
   "outputs": [
    {
     "ename": "TimeoutException",
     "evalue": "Message: \nStacktrace:\n\tGetHandleVerifier [0x00D64DE3+43907]\n\t(No symbol) [0x00CF0741]\n\t(No symbol) [0x00BE33ED]\n\t(No symbol) [0x00C16760]\n\t(No symbol) [0x00C16C2B]\n\t(No symbol) [0x00C46F62]\n\t(No symbol) [0x00C32BA4]\n\t(No symbol) [0x00C455CA]\n\t(No symbol) [0x00C32956]\n\t(No symbol) [0x00C0E17E]\n\t(No symbol) [0x00C0F32D]\n\tGetHandleVerifier [0x01015AF9+2865305]\n\tGetHandleVerifier [0x0105E78B+3163435]\n\tGetHandleVerifier [0x01058441+3138017]\n\tGetHandleVerifier [0x00DEE0F0+605840]\n\t(No symbol) [0x00CFA64C]\n\t(No symbol) [0x00CF6638]\n\t(No symbol) [0x00CF675F]\n\t(No symbol) [0x00CE8DB7]\n\tBaseThreadInitThunk [0x76957BA9+25]\n\tRtlInitializeExceptionChain [0x7774BD3B+107]\n\tRtlClearBits [0x7774BCBF+191]\n",
     "output_type": "error",
     "traceback": [
      "\u001b[1;31m---------------------------------------------------------------------------\u001b[0m",
      "\u001b[1;31mTimeoutException\u001b[0m                          Traceback (most recent call last)",
      "\u001b[1;32mc:\\Users\\Matheus Monte\\Documents\\Projetos 2.0\\Projeto_ESL\\magazine.ipynb Cell 3\u001b[0m line \u001b[0;36m2\n\u001b[0;32m     <a href='vscode-notebook-cell:/c%3A/Users/Matheus%20Monte/Documents/Projetos%202.0/Projeto_ESL/magazine.ipynb#W2sZmlsZQ%3D%3D?line=18'>19</a>\u001b[0m recaptcha \u001b[39m=\u001b[39m driver\u001b[39m.\u001b[39mfind_element(By\u001b[39m.\u001b[39mXPATH, \u001b[39m'\u001b[39m\u001b[39m//*[@id=\u001b[39m\u001b[39m\"\u001b[39m\u001b[39mrecaptcha-anchor\u001b[39m\u001b[39m\"\u001b[39m\u001b[39m]/div[1]\u001b[39m\u001b[39m'\u001b[39m)\n\u001b[0;32m     <a href='vscode-notebook-cell:/c%3A/Users/Matheus%20Monte/Documents/Projetos%202.0/Projeto_ESL/magazine.ipynb#W2sZmlsZQ%3D%3D?line=19'>20</a>\u001b[0m recaptcha\u001b[39m.\u001b[39mclick()\n\u001b[1;32m---> <a href='vscode-notebook-cell:/c%3A/Users/Matheus%20Monte/Documents/Projetos%202.0/Projeto_ESL/magazine.ipynb#W2sZmlsZQ%3D%3D?line=21'>22</a>\u001b[0m login_botton \u001b[39m=\u001b[39m wait\u001b[39m.\u001b[39;49muntil(EC\u001b[39m.\u001b[39;49melement_to_be_clickable((By\u001b[39m.\u001b[39;49mXPATH, \u001b[39m'\u001b[39;49m\u001b[39m//*[@id=\u001b[39;49m\u001b[39m\"\u001b[39;49m\u001b[39marquivei-sign-in\u001b[39;49m\u001b[39m\"\u001b[39;49m\u001b[39m]/div[2]/form/div[4]/button[2]\u001b[39;49m\u001b[39m'\u001b[39;49m)))\n\u001b[0;32m     <a href='vscode-notebook-cell:/c%3A/Users/Matheus%20Monte/Documents/Projetos%202.0/Projeto_ESL/magazine.ipynb#W2sZmlsZQ%3D%3D?line=22'>23</a>\u001b[0m login_botton\u001b[39m.\u001b[39mclick()\n\u001b[0;32m     <a href='vscode-notebook-cell:/c%3A/Users/Matheus%20Monte/Documents/Projetos%202.0/Projeto_ESL/magazine.ipynb#W2sZmlsZQ%3D%3D?line=24'>25</a>\u001b[0m list_notas \u001b[39m=\u001b[39m get_chave_notas()\n",
      "File \u001b[1;32mc:\\Users\\Matheus Monte\\AppData\\Local\\Programs\\Python\\Python311\\Lib\\site-packages\\selenium\\webdriver\\support\\wait.py:95\u001b[0m, in \u001b[0;36mWebDriverWait.until\u001b[1;34m(self, method, message)\u001b[0m\n\u001b[0;32m     93\u001b[0m     \u001b[39mif\u001b[39;00m time\u001b[39m.\u001b[39mmonotonic() \u001b[39m>\u001b[39m end_time:\n\u001b[0;32m     94\u001b[0m         \u001b[39mbreak\u001b[39;00m\n\u001b[1;32m---> 95\u001b[0m \u001b[39mraise\u001b[39;00m TimeoutException(message, screen, stacktrace)\n",
      "\u001b[1;31mTimeoutException\u001b[0m: Message: \nStacktrace:\n\tGetHandleVerifier [0x00D64DE3+43907]\n\t(No symbol) [0x00CF0741]\n\t(No symbol) [0x00BE33ED]\n\t(No symbol) [0x00C16760]\n\t(No symbol) [0x00C16C2B]\n\t(No symbol) [0x00C46F62]\n\t(No symbol) [0x00C32BA4]\n\t(No symbol) [0x00C455CA]\n\t(No symbol) [0x00C32956]\n\t(No symbol) [0x00C0E17E]\n\t(No symbol) [0x00C0F32D]\n\tGetHandleVerifier [0x01015AF9+2865305]\n\tGetHandleVerifier [0x0105E78B+3163435]\n\tGetHandleVerifier [0x01058441+3138017]\n\tGetHandleVerifier [0x00DEE0F0+605840]\n\t(No symbol) [0x00CFA64C]\n\t(No symbol) [0x00CF6638]\n\t(No symbol) [0x00CF675F]\n\t(No symbol) [0x00CE8DB7]\n\tBaseThreadInitThunk [0x76957BA9+25]\n\tRtlInitializeExceptionChain [0x7774BD3B+107]\n\tRtlClearBits [0x7774BCBF+191]\n"
     ]
    }
   ],
   "source": [
    "count = 0\n",
    "\n",
    "service = Service(ChromeDriverManager().install())\n",
    "driver = webdriver.Chrome(service=service)\n",
    "wait = WebDriverWait(driver, 600)\n",
    "\n",
    "driver.maximize_window()\n",
    "driver.get('https://lite.arquivei.com.br/batch')\n",
    "\n",
    "login = driver.find_element(By.XPATH, '//*[@id=\"email\"]')\n",
    "login.send_keys('daniel@conectacargo.com.br')\n",
    "\n",
    "password = driver.find_element(By.XPATH, '//*[@id=\"password\"]')\n",
    "password.send_keys('conecta123')\n",
    "\n",
    "iframe = driver.find_element(By.XPATH, '//*[@id=\"google-recaptcha\"]/div/div/iframe')\n",
    "driver.switch_to.frame(iframe)\n",
    "\n",
    "recaptcha = driver.find_element(By.XPATH, '//*[@id=\"recaptcha-anchor\"]/div[1]')\n",
    "recaptcha.click()\n",
    "\n",
    "login_botton = wait.until(EC.element_to_be_clickable((By.XPATH, '//*[@id=\"arquivei-sign-in\"]/div[2]/form/div[4]/button[2]')))\n",
    "login_botton.click()\n",
    "\n",
    "list_notas = get_chave_notas()\n",
    "list_downloaded = []\n",
    "\n",
    "for nota in list_notas:\n",
    "    if nota in list_downloaded: continue\n",
    "    search_nota = driver.find_element(By.XPATH, '//*[@id=\"batch-access-key-input\"]/textarea')\n",
    "    search_nota.send_keys(nota)\n",
    "    search_nota.send_keys('/n')\n",
    "    count += 1\n",
    "\n",
    "    if count == 300:\n",
    "        download_button = driver.find_element(By.XPATH, '//*[@id=\"batch-send\"]/button')\n",
    "\n"
   ]
  }
 ],
 "metadata": {
  "kernelspec": {
   "display_name": "Python 3",
   "language": "python",
   "name": "python3"
  },
  "language_info": {
   "codemirror_mode": {
    "name": "ipython",
    "version": 3
   },
   "file_extension": ".py",
   "mimetype": "text/x-python",
   "name": "python",
   "nbconvert_exporter": "python",
   "pygments_lexer": "ipython3",
   "version": "3.11.4"
  }
 },
 "nbformat": 4,
 "nbformat_minor": 2
}
